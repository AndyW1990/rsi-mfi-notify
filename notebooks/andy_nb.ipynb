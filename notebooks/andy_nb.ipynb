{
 "cells": [
  {
   "cell_type": "markdown",
   "metadata": {},
   "source": [
    "# Using Yahoo Finance to calc RSI and MFI"
   ]
  },
  {
   "cell_type": "markdown",
   "metadata": {},
   "source": [
    "## Imports and Constants"
   ]
  },
  {
   "cell_type": "code",
   "execution_count": 1,
   "metadata": {},
   "outputs": [],
   "source": [
    "%load_ext autoreload\n",
    "%autoreload 2"
   ]
  },
  {
   "cell_type": "code",
   "execution_count": 2,
   "metadata": {},
   "outputs": [],
   "source": [
    "import pandas as pd\n",
    "import numpy as np\n",
    "import yfinance as yf\n",
    "import mplfinance as mpf"
   ]
  },
  {
   "cell_type": "code",
   "execution_count": 28,
   "metadata": {},
   "outputs": [],
   "source": [
    "candle_period = '1wk'\n",
    "rolling_period = 14\n",
    "markets = ['^SPX', '^NDX', '^FTLC', 'GBRE.L', 'TECW.L', 'ESIC.DE', 'SJPA.L',  'VDPG.L', 'XDW0.L', 'UC15.L']"
   ]
  },
  {
   "cell_type": "markdown",
   "metadata": {},
   "source": [
    "## Get OHLCV"
   ]
  },
  {
   "cell_type": "code",
   "execution_count": 29,
   "metadata": {},
   "outputs": [
    {
     "name": "stderr",
     "output_type": "stream",
     "text": [
      "[*********************100%%**********************]  1 of 1 completed\n"
     ]
    },
    {
     "data": {
      "text/html": [
       "<div>\n",
       "<style scoped>\n",
       "    .dataframe tbody tr th:only-of-type {\n",
       "        vertical-align: middle;\n",
       "    }\n",
       "\n",
       "    .dataframe tbody tr th {\n",
       "        vertical-align: top;\n",
       "    }\n",
       "\n",
       "    .dataframe thead th {\n",
       "        text-align: right;\n",
       "    }\n",
       "</style>\n",
       "<table border=\"1\" class=\"dataframe\">\n",
       "  <thead>\n",
       "    <tr style=\"text-align: right;\">\n",
       "      <th></th>\n",
       "      <th>Open</th>\n",
       "      <th>High</th>\n",
       "      <th>Low</th>\n",
       "      <th>Close</th>\n",
       "      <th>Adj Close</th>\n",
       "      <th>Volume</th>\n",
       "    </tr>\n",
       "    <tr>\n",
       "      <th>Date</th>\n",
       "      <th></th>\n",
       "      <th></th>\n",
       "      <th></th>\n",
       "      <th></th>\n",
       "      <th></th>\n",
       "      <th></th>\n",
       "    </tr>\n",
       "  </thead>\n",
       "  <tbody>\n",
       "    <tr>\n",
       "      <th>1927-12-26</th>\n",
       "      <td>17.660000</td>\n",
       "      <td>17.660000</td>\n",
       "      <td>17.660000</td>\n",
       "      <td>17.660000</td>\n",
       "      <td>17.660000</td>\n",
       "      <td>0</td>\n",
       "    </tr>\n",
       "    <tr>\n",
       "      <th>1928-01-02</th>\n",
       "      <td>17.760000</td>\n",
       "      <td>17.760000</td>\n",
       "      <td>17.549999</td>\n",
       "      <td>17.660000</td>\n",
       "      <td>17.660000</td>\n",
       "      <td>0</td>\n",
       "    </tr>\n",
       "    <tr>\n",
       "      <th>1928-01-09</th>\n",
       "      <td>17.500000</td>\n",
       "      <td>17.580000</td>\n",
       "      <td>17.350000</td>\n",
       "      <td>17.580000</td>\n",
       "      <td>17.580000</td>\n",
       "      <td>0</td>\n",
       "    </tr>\n",
       "    <tr>\n",
       "      <th>1928-01-16</th>\n",
       "      <td>17.290001</td>\n",
       "      <td>17.480000</td>\n",
       "      <td>17.260000</td>\n",
       "      <td>17.480000</td>\n",
       "      <td>17.480000</td>\n",
       "      <td>0</td>\n",
       "    </tr>\n",
       "    <tr>\n",
       "      <th>1928-01-23</th>\n",
       "      <td>17.639999</td>\n",
       "      <td>17.709999</td>\n",
       "      <td>17.520000</td>\n",
       "      <td>17.690001</td>\n",
       "      <td>17.690001</td>\n",
       "      <td>0</td>\n",
       "    </tr>\n",
       "    <tr>\n",
       "      <th>...</th>\n",
       "      <td>...</td>\n",
       "      <td>...</td>\n",
       "      <td>...</td>\n",
       "      <td>...</td>\n",
       "      <td>...</td>\n",
       "      <td>...</td>\n",
       "    </tr>\n",
       "    <tr>\n",
       "      <th>2023-12-11</th>\n",
       "      <td>4593.390137</td>\n",
       "      <td>4738.569824</td>\n",
       "      <td>4593.390137</td>\n",
       "      <td>4719.189941</td>\n",
       "      <td>4719.189941</td>\n",
       "      <td>27228260000</td>\n",
       "    </tr>\n",
       "    <tr>\n",
       "      <th>2023-12-18</th>\n",
       "      <td>4725.580078</td>\n",
       "      <td>4778.009766</td>\n",
       "      <td>4697.819824</td>\n",
       "      <td>4754.629883</td>\n",
       "      <td>4754.629883</td>\n",
       "      <td>18766580000</td>\n",
       "    </tr>\n",
       "    <tr>\n",
       "      <th>2023-12-25</th>\n",
       "      <td>4758.859863</td>\n",
       "      <td>4793.299805</td>\n",
       "      <td>4751.990234</td>\n",
       "      <td>4769.830078</td>\n",
       "      <td>4769.830078</td>\n",
       "      <td>11087280000</td>\n",
       "    </tr>\n",
       "    <tr>\n",
       "      <th>2024-01-01</th>\n",
       "      <td>4745.200195</td>\n",
       "      <td>4754.330078</td>\n",
       "      <td>4682.109863</td>\n",
       "      <td>4697.240234</td>\n",
       "      <td>4697.240234</td>\n",
       "      <td>15253660000</td>\n",
       "    </tr>\n",
       "    <tr>\n",
       "      <th>2024-01-08</th>\n",
       "      <td>4703.700195</td>\n",
       "      <td>4802.399902</td>\n",
       "      <td>4699.819824</td>\n",
       "      <td>4782.450195</td>\n",
       "      <td>4782.450195</td>\n",
       "      <td>15235542898</td>\n",
       "    </tr>\n",
       "  </tbody>\n",
       "</table>\n",
       "<p>5011 rows × 6 columns</p>\n",
       "</div>"
      ],
      "text/plain": [
       "                   Open         High          Low        Close    Adj Close  \\\n",
       "Date                                                                          \n",
       "1927-12-26    17.660000    17.660000    17.660000    17.660000    17.660000   \n",
       "1928-01-02    17.760000    17.760000    17.549999    17.660000    17.660000   \n",
       "1928-01-09    17.500000    17.580000    17.350000    17.580000    17.580000   \n",
       "1928-01-16    17.290001    17.480000    17.260000    17.480000    17.480000   \n",
       "1928-01-23    17.639999    17.709999    17.520000    17.690001    17.690001   \n",
       "...                 ...          ...          ...          ...          ...   \n",
       "2023-12-11  4593.390137  4738.569824  4593.390137  4719.189941  4719.189941   \n",
       "2023-12-18  4725.580078  4778.009766  4697.819824  4754.629883  4754.629883   \n",
       "2023-12-25  4758.859863  4793.299805  4751.990234  4769.830078  4769.830078   \n",
       "2024-01-01  4745.200195  4754.330078  4682.109863  4697.240234  4697.240234   \n",
       "2024-01-08  4703.700195  4802.399902  4699.819824  4782.450195  4782.450195   \n",
       "\n",
       "                 Volume  \n",
       "Date                     \n",
       "1927-12-26            0  \n",
       "1928-01-02            0  \n",
       "1928-01-09            0  \n",
       "1928-01-16            0  \n",
       "1928-01-23            0  \n",
       "...                 ...  \n",
       "2023-12-11  27228260000  \n",
       "2023-12-18  18766580000  \n",
       "2023-12-25  11087280000  \n",
       "2024-01-01  15253660000  \n",
       "2024-01-08  15235542898  \n",
       "\n",
       "[5011 rows x 6 columns]"
      ]
     },
     "execution_count": 29,
     "metadata": {},
     "output_type": "execute_result"
    }
   ],
   "source": [
    "data = yf.download('^SPX', interval = candle_period)\n",
    "data"
   ]
  },
  {
   "cell_type": "code",
   "execution_count": 6,
   "metadata": {},
   "outputs": [
    {
     "name": "stderr",
     "output_type": "stream",
     "text": [
      "[*********************100%%**********************]  1 of 1 completed\n"
     ]
    },
    {
     "data": {
      "text/html": [
       "<div>\n",
       "<style scoped>\n",
       "    .dataframe tbody tr th:only-of-type {\n",
       "        vertical-align: middle;\n",
       "    }\n",
       "\n",
       "    .dataframe tbody tr th {\n",
       "        vertical-align: top;\n",
       "    }\n",
       "\n",
       "    .dataframe thead th {\n",
       "        text-align: right;\n",
       "    }\n",
       "</style>\n",
       "<table border=\"1\" class=\"dataframe\">\n",
       "  <thead>\n",
       "    <tr style=\"text-align: right;\">\n",
       "      <th></th>\n",
       "      <th>Open</th>\n",
       "      <th>High</th>\n",
       "      <th>Low</th>\n",
       "      <th>Close</th>\n",
       "      <th>Adj Close</th>\n",
       "      <th>Volume</th>\n",
       "    </tr>\n",
       "    <tr>\n",
       "      <th>Date</th>\n",
       "      <th></th>\n",
       "      <th></th>\n",
       "      <th></th>\n",
       "      <th></th>\n",
       "      <th></th>\n",
       "      <th></th>\n",
       "    </tr>\n",
       "  </thead>\n",
       "  <tbody>\n",
       "    <tr>\n",
       "      <th>2022-04-04</th>\n",
       "      <td>86.909927</td>\n",
       "      <td>88.050003</td>\n",
       "      <td>84.372543</td>\n",
       "      <td>84.014999</td>\n",
       "      <td>84.014999</td>\n",
       "      <td>176</td>\n",
       "    </tr>\n",
       "    <tr>\n",
       "      <th>2022-04-11</th>\n",
       "      <td>83.344223</td>\n",
       "      <td>83.344223</td>\n",
       "      <td>81.109428</td>\n",
       "      <td>81.650002</td>\n",
       "      <td>81.650002</td>\n",
       "      <td>396</td>\n",
       "    </tr>\n",
       "    <tr>\n",
       "      <th>2022-04-18</th>\n",
       "      <td>81.650002</td>\n",
       "      <td>82.473549</td>\n",
       "      <td>80.459999</td>\n",
       "      <td>80.934998</td>\n",
       "      <td>80.934998</td>\n",
       "      <td>281</td>\n",
       "    </tr>\n",
       "    <tr>\n",
       "      <th>2022-04-25</th>\n",
       "      <td>79.489098</td>\n",
       "      <td>83.239998</td>\n",
       "      <td>79.147079</td>\n",
       "      <td>82.050003</td>\n",
       "      <td>82.050003</td>\n",
       "      <td>809</td>\n",
       "    </tr>\n",
       "    <tr>\n",
       "      <th>2022-05-02</th>\n",
       "      <td>82.050003</td>\n",
       "      <td>83.911911</td>\n",
       "      <td>79.347954</td>\n",
       "      <td>81.184998</td>\n",
       "      <td>81.184998</td>\n",
       "      <td>823</td>\n",
       "    </tr>\n",
       "    <tr>\n",
       "      <th>...</th>\n",
       "      <td>...</td>\n",
       "      <td>...</td>\n",
       "      <td>...</td>\n",
       "      <td>...</td>\n",
       "      <td>...</td>\n",
       "      <td>...</td>\n",
       "    </tr>\n",
       "    <tr>\n",
       "      <th>2023-12-11</th>\n",
       "      <td>103.555069</td>\n",
       "      <td>106.480003</td>\n",
       "      <td>103.537216</td>\n",
       "      <td>105.919998</td>\n",
       "      <td>105.919998</td>\n",
       "      <td>1426</td>\n",
       "    </tr>\n",
       "    <tr>\n",
       "      <th>2023-12-18</th>\n",
       "      <td>105.597397</td>\n",
       "      <td>107.099998</td>\n",
       "      <td>104.800003</td>\n",
       "      <td>105.349998</td>\n",
       "      <td>105.349998</td>\n",
       "      <td>1573</td>\n",
       "    </tr>\n",
       "    <tr>\n",
       "      <th>2023-12-25</th>\n",
       "      <td>105.349998</td>\n",
       "      <td>106.660004</td>\n",
       "      <td>105.151154</td>\n",
       "      <td>106.000000</td>\n",
       "      <td>106.000000</td>\n",
       "      <td>707</td>\n",
       "    </tr>\n",
       "    <tr>\n",
       "      <th>2024-01-01</th>\n",
       "      <td>106.000000</td>\n",
       "      <td>106.180000</td>\n",
       "      <td>101.599998</td>\n",
       "      <td>101.599998</td>\n",
       "      <td>101.599998</td>\n",
       "      <td>1007</td>\n",
       "    </tr>\n",
       "    <tr>\n",
       "      <th>2024-01-08</th>\n",
       "      <td>103.623161</td>\n",
       "      <td>105.838097</td>\n",
       "      <td>103.623161</td>\n",
       "      <td>104.750000</td>\n",
       "      <td>104.750000</td>\n",
       "      <td>388</td>\n",
       "    </tr>\n",
       "  </tbody>\n",
       "</table>\n",
       "<p>93 rows × 6 columns</p>\n",
       "</div>"
      ],
      "text/plain": [
       "                  Open        High         Low       Close   Adj Close  Volume\n",
       "Date                                                                          \n",
       "2022-04-04   86.909927   88.050003   84.372543   84.014999   84.014999     176\n",
       "2022-04-11   83.344223   83.344223   81.109428   81.650002   81.650002     396\n",
       "2022-04-18   81.650002   82.473549   80.459999   80.934998   80.934998     281\n",
       "2022-04-25   79.489098   83.239998   79.147079   82.050003   82.050003     809\n",
       "2022-05-02   82.050003   83.911911   79.347954   81.184998   81.184998     823\n",
       "...                ...         ...         ...         ...         ...     ...\n",
       "2023-12-11  103.555069  106.480003  103.537216  105.919998  105.919998    1426\n",
       "2023-12-18  105.597397  107.099998  104.800003  105.349998  105.349998    1573\n",
       "2023-12-25  105.349998  106.660004  105.151154  106.000000  106.000000     707\n",
       "2024-01-01  106.000000  106.180000  101.599998  101.599998  101.599998    1007\n",
       "2024-01-08  103.623161  105.838097  103.623161  104.750000  104.750000     388\n",
       "\n",
       "[93 rows x 6 columns]"
      ]
     },
     "execution_count": 6,
     "metadata": {},
     "output_type": "execute_result"
    }
   ],
   "source": [
    "data = yf.download('TECW.L', interval = candle_period)\n",
    "data"
   ]
  },
  {
   "cell_type": "code",
   "execution_count": null,
   "metadata": {},
   "outputs": [],
   "source": [
    "type(data)"
   ]
  },
  {
   "cell_type": "code",
   "execution_count": null,
   "metadata": {
    "scrolled": true
   },
   "outputs": [],
   "source": [
    "data.describe()"
   ]
  },
  {
   "cell_type": "code",
   "execution_count": null,
   "metadata": {},
   "outputs": [],
   "source": [
    "data.tail()"
   ]
  },
  {
   "cell_type": "markdown",
   "metadata": {},
   "source": [
    "## RSI"
   ]
  },
  {
   "cell_type": "code",
   "execution_count": null,
   "metadata": {
    "scrolled": true
   },
   "outputs": [],
   "source": [
    "data['Change'] = data['Adj Close'].diff()\n",
    "data['Gain'] = data['Change'].mask(data['Change'] < 0, 0.0)\n",
    "data['Loss'] = -data['Change'].mask(data['Change'] > 0, -0.0)"
   ]
  },
  {
   "cell_type": "code",
   "execution_count": null,
   "metadata": {
    "scrolled": true
   },
   "outputs": [],
   "source": [
    "data['Avg Gain'] = data['Gain'].rolling(rolling_period).mean()\n",
    "data['Avg Loss'] = data['Loss'].rolling(rolling_period).mean()"
   ]
  },
  {
   "cell_type": "code",
   "execution_count": null,
   "metadata": {},
   "outputs": [],
   "source": [
    "data['Avg Gain'] = data['Gain'].ewm(com=rolling_period, adjust=False).mean()\n",
    "data['Avg Loss'] = data['Loss'].ewm(com=rolling_period, adjust=False).mean()"
   ]
  },
  {
   "cell_type": "code",
   "execution_count": null,
   "metadata": {},
   "outputs": [],
   "source": [
    "data['RS'] = data['Avg Gain'] / data['Avg Loss']\n",
    "data['RSI'] = 100 - (100 / (1 + data['RS']))\n",
    "data"
   ]
  },
  {
   "cell_type": "code",
   "execution_count": null,
   "metadata": {},
   "outputs": [],
   "source": [
    "mpf.plot(data, type='candle', style='yahoo', volume=True)"
   ]
  },
  {
   "cell_type": "code",
   "execution_count": null,
   "metadata": {},
   "outputs": [],
   "source": [
    "data[['RSI']].iloc[-52:].plot()"
   ]
  },
  {
   "cell_type": "markdown",
   "metadata": {},
   "source": [
    "## MFI"
   ]
  },
  {
   "cell_type": "code",
   "execution_count": null,
   "metadata": {},
   "outputs": [],
   "source": [
    "data['Typical Price'] = (data['Adj Close'] + data['High'] + data['Low']) / 3\n",
    "data['Money Flow'] = data['Typical Price'] * data['Volume']"
   ]
  },
  {
   "cell_type": "code",
   "execution_count": null,
   "metadata": {},
   "outputs": [],
   "source": [
    "def mf_dir(typical_price,money_flow):\n",
    "\n",
    "    positive_flow = []\n",
    "    negative_flow = []\n",
    "    \n",
    "    for i in range(1, len(typical_price)):\n",
    "        if typical_price[i] > typical_price[i-1]:\n",
    "            positive_flow.append(money_flow[i-1])\n",
    "            negative_flow.append(0)\n",
    "            \n",
    "        elif typical_price[i] < typical_price[i-1]:\n",
    "            negative_flow.append(money_flow[i-1])\n",
    "            positive_flow.append(0)\n",
    "            \n",
    "        else:\n",
    "            positive_flow.append(0)\n",
    "            negative_flow.append(0)\n",
    "            \n",
    "    return positive_flow, negative_flow"
   ]
  },
  {
   "cell_type": "code",
   "execution_count": null,
   "metadata": {},
   "outputs": [],
   "source": [
    "data['Positive Flow'], data['Negative Flow'] = np.nan, np.nan"
   ]
  },
  {
   "cell_type": "code",
   "execution_count": null,
   "metadata": {},
   "outputs": [],
   "source": [
    "data['Positive Flow'].iloc[1:],data['Negative Flow'].iloc[1:] = mf_dir(data['Typical Price'].to_numpy(), data['Money Flow'].to_numpy())"
   ]
  },
  {
   "cell_type": "code",
   "execution_count": null,
   "metadata": {
    "scrolled": true
   },
   "outputs": [],
   "source": [
    "data['Positive MF'] = data['Positive Flow'].rolling(rolling_period).sum()\n",
    "data['Negative MF'] = data['Negative Flow'].rolling(rolling_period).sum()"
   ]
  },
  {
   "cell_type": "code",
   "execution_count": null,
   "metadata": {
    "scrolled": true
   },
   "outputs": [],
   "source": [
    "data['MFI'] = data['Positive MF']/ (data['Positive MF'] + data['Negative MF'])\n",
    "data"
   ]
  },
  {
   "cell_type": "code",
   "execution_count": null,
   "metadata": {},
   "outputs": [],
   "source": [
    "data[['MFI']].iloc[-52:].plot()"
   ]
  }
 ],
 "metadata": {
  "kernelspec": {
   "display_name": "Python 3 (ipykernel)",
   "language": "python",
   "name": "python3"
  },
  "language_info": {
   "codemirror_mode": {
    "name": "ipython",
    "version": 3
   },
   "file_extension": ".py",
   "mimetype": "text/x-python",
   "name": "python",
   "nbconvert_exporter": "python",
   "pygments_lexer": "ipython3",
   "version": "3.10.6"
  }
 },
 "nbformat": 4,
 "nbformat_minor": 4
}
