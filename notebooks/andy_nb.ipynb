{
 "cells": [
  {
   "cell_type": "markdown",
   "metadata": {},
   "source": [
    "# Using Yahoo Finance to calc RSI and MFI"
   ]
  },
  {
   "cell_type": "markdown",
   "metadata": {},
   "source": [
    "## Imports and Constants"
   ]
  },
  {
   "cell_type": "code",
   "execution_count": 1,
   "metadata": {},
   "outputs": [],
   "source": [
    "%load_ext autoreload\n",
    "%autoreload 2"
   ]
  },
  {
   "cell_type": "code",
   "execution_count": 23,
   "metadata": {},
   "outputs": [],
   "source": [
    "import pandas as pd\n",
    "import numpy as np\n",
    "import yfinance as yf\n",
    "import mplfinance as mpf"
   ]
  },
  {
   "cell_type": "code",
   "execution_count": 56,
   "metadata": {},
   "outputs": [],
   "source": [
    "candle_period = '1wk'\n",
    "rolling_period = 14"
   ]
  },
  {
   "cell_type": "markdown",
   "metadata": {},
   "source": [
    "## Get OHLCV"
   ]
  },
  {
   "cell_type": "code",
   "execution_count": 4,
   "metadata": {},
   "outputs": [
    {
     "name": "stderr",
     "output_type": "stream",
     "text": [
      "[*********************100%%**********************]  1 of 1 completed\n"
     ]
    }
   ],
   "source": [
    "data = yf.download(\"SPY\", interval = candle_period)"
   ]
  },
  {
   "cell_type": "code",
   "execution_count": 5,
   "metadata": {},
   "outputs": [
    {
     "data": {
      "text/plain": [
       "pandas.core.frame.DataFrame"
      ]
     },
     "execution_count": 5,
     "metadata": {},
     "output_type": "execute_result"
    }
   ],
   "source": [
    "type(data)"
   ]
  },
  {
   "cell_type": "code",
   "execution_count": 6,
   "metadata": {
    "scrolled": true
   },
   "outputs": [
    {
     "data": {
      "text/html": [
       "<div>\n",
       "<style scoped>\n",
       "    .dataframe tbody tr th:only-of-type {\n",
       "        vertical-align: middle;\n",
       "    }\n",
       "\n",
       "    .dataframe tbody tr th {\n",
       "        vertical-align: top;\n",
       "    }\n",
       "\n",
       "    .dataframe thead th {\n",
       "        text-align: right;\n",
       "    }\n",
       "</style>\n",
       "<table border=\"1\" class=\"dataframe\">\n",
       "  <thead>\n",
       "    <tr style=\"text-align: right;\">\n",
       "      <th></th>\n",
       "      <th>Open</th>\n",
       "      <th>High</th>\n",
       "      <th>Low</th>\n",
       "      <th>Close</th>\n",
       "      <th>Adj Close</th>\n",
       "      <th>Volume</th>\n",
       "    </tr>\n",
       "  </thead>\n",
       "  <tbody>\n",
       "    <tr>\n",
       "      <th>count</th>\n",
       "      <td>1616.000000</td>\n",
       "      <td>1616.000000</td>\n",
       "      <td>1616.000000</td>\n",
       "      <td>1616.000000</td>\n",
       "      <td>1616.000000</td>\n",
       "      <td>1.616000e+03</td>\n",
       "    </tr>\n",
       "    <tr>\n",
       "      <th>mean</th>\n",
       "      <td>170.661637</td>\n",
       "      <td>173.297585</td>\n",
       "      <td>167.923609</td>\n",
       "      <td>170.911785</td>\n",
       "      <td>142.532011</td>\n",
       "      <td>4.073519e+08</td>\n",
       "    </tr>\n",
       "    <tr>\n",
       "      <th>std</th>\n",
       "      <td>106.957537</td>\n",
       "      <td>108.548335</td>\n",
       "      <td>105.453779</td>\n",
       "      <td>107.233516</td>\n",
       "      <td>113.068925</td>\n",
       "      <td>4.315533e+08</td>\n",
       "    </tr>\n",
       "    <tr>\n",
       "      <th>min</th>\n",
       "      <td>43.343750</td>\n",
       "      <td>43.968750</td>\n",
       "      <td>42.812500</td>\n",
       "      <td>43.562500</td>\n",
       "      <td>24.628666</td>\n",
       "      <td>1.022000e+05</td>\n",
       "    </tr>\n",
       "    <tr>\n",
       "      <th>25%</th>\n",
       "      <td>105.296875</td>\n",
       "      <td>107.615002</td>\n",
       "      <td>103.154688</td>\n",
       "      <td>105.572500</td>\n",
       "      <td>70.726854</td>\n",
       "      <td>4.792588e+07</td>\n",
       "    </tr>\n",
       "    <tr>\n",
       "      <th>50%</th>\n",
       "      <td>132.000000</td>\n",
       "      <td>134.178749</td>\n",
       "      <td>129.635002</td>\n",
       "      <td>132.019997</td>\n",
       "      <td>93.450729</td>\n",
       "      <td>3.153046e+08</td>\n",
       "    </tr>\n",
       "    <tr>\n",
       "      <th>75%</th>\n",
       "      <td>210.430000</td>\n",
       "      <td>212.300003</td>\n",
       "      <td>207.884995</td>\n",
       "      <td>210.312500</td>\n",
       "      <td>180.937061</td>\n",
       "      <td>5.602494e+08</td>\n",
       "    </tr>\n",
       "    <tr>\n",
       "      <th>max</th>\n",
       "      <td>476.299988</td>\n",
       "      <td>479.980011</td>\n",
       "      <td>473.299988</td>\n",
       "      <td>475.309998</td>\n",
       "      <td>475.309998</td>\n",
       "      <td>3.281576e+09</td>\n",
       "    </tr>\n",
       "  </tbody>\n",
       "</table>\n",
       "</div>"
      ],
      "text/plain": [
       "              Open         High          Low        Close    Adj Close  \\\n",
       "count  1616.000000  1616.000000  1616.000000  1616.000000  1616.000000   \n",
       "mean    170.661637   173.297585   167.923609   170.911785   142.532011   \n",
       "std     106.957537   108.548335   105.453779   107.233516   113.068925   \n",
       "min      43.343750    43.968750    42.812500    43.562500    24.628666   \n",
       "25%     105.296875   107.615002   103.154688   105.572500    70.726854   \n",
       "50%     132.000000   134.178749   129.635002   132.019997    93.450729   \n",
       "75%     210.430000   212.300003   207.884995   210.312500   180.937061   \n",
       "max     476.299988   479.980011   473.299988   475.309998   475.309998   \n",
       "\n",
       "             Volume  \n",
       "count  1.616000e+03  \n",
       "mean   4.073519e+08  \n",
       "std    4.315533e+08  \n",
       "min    1.022000e+05  \n",
       "25%    4.792588e+07  \n",
       "50%    3.153046e+08  \n",
       "75%    5.602494e+08  \n",
       "max    3.281576e+09  "
      ]
     },
     "execution_count": 6,
     "metadata": {},
     "output_type": "execute_result"
    }
   ],
   "source": [
    "data.describe()"
   ]
  },
  {
   "cell_type": "code",
   "execution_count": 8,
   "metadata": {},
   "outputs": [
    {
     "data": {
      "text/html": [
       "<div>\n",
       "<style scoped>\n",
       "    .dataframe tbody tr th:only-of-type {\n",
       "        vertical-align: middle;\n",
       "    }\n",
       "\n",
       "    .dataframe tbody tr th {\n",
       "        vertical-align: top;\n",
       "    }\n",
       "\n",
       "    .dataframe thead th {\n",
       "        text-align: right;\n",
       "    }\n",
       "</style>\n",
       "<table border=\"1\" class=\"dataframe\">\n",
       "  <thead>\n",
       "    <tr style=\"text-align: right;\">\n",
       "      <th></th>\n",
       "      <th>Open</th>\n",
       "      <th>High</th>\n",
       "      <th>Low</th>\n",
       "      <th>Close</th>\n",
       "      <th>Adj Close</th>\n",
       "      <th>Volume</th>\n",
       "    </tr>\n",
       "    <tr>\n",
       "      <th>Date</th>\n",
       "      <th></th>\n",
       "      <th></th>\n",
       "      <th></th>\n",
       "      <th></th>\n",
       "      <th></th>\n",
       "      <th></th>\n",
       "    </tr>\n",
       "  </thead>\n",
       "  <tbody>\n",
       "    <tr>\n",
       "      <th>2023-12-11</th>\n",
       "      <td>459.690002</td>\n",
       "      <td>473.730011</td>\n",
       "      <td>459.470001</td>\n",
       "      <td>469.329987</td>\n",
       "      <td>467.434814</td>\n",
       "      <td>486953100</td>\n",
       "    </tr>\n",
       "    <tr>\n",
       "      <th>2023-12-18</th>\n",
       "      <td>470.980011</td>\n",
       "      <td>475.899994</td>\n",
       "      <td>467.820007</td>\n",
       "      <td>473.649994</td>\n",
       "      <td>473.649994</td>\n",
       "      <td>382852200</td>\n",
       "    </tr>\n",
       "    <tr>\n",
       "      <th>2023-12-25</th>\n",
       "      <td>474.070007</td>\n",
       "      <td>477.549988</td>\n",
       "      <td>473.299988</td>\n",
       "      <td>475.309998</td>\n",
       "      <td>475.309998</td>\n",
       "      <td>322779500</td>\n",
       "    </tr>\n",
       "    <tr>\n",
       "      <th>2024-01-01</th>\n",
       "      <td>472.160004</td>\n",
       "      <td>473.670013</td>\n",
       "      <td>466.429993</td>\n",
       "      <td>467.920013</td>\n",
       "      <td>467.920013</td>\n",
       "      <td>397502600</td>\n",
       "    </tr>\n",
       "    <tr>\n",
       "      <th>2024-01-08</th>\n",
       "      <td>468.429993</td>\n",
       "      <td>474.929993</td>\n",
       "      <td>468.299988</td>\n",
       "      <td>473.880005</td>\n",
       "      <td>473.880005</td>\n",
       "      <td>140670043</td>\n",
       "    </tr>\n",
       "  </tbody>\n",
       "</table>\n",
       "</div>"
      ],
      "text/plain": [
       "                  Open        High         Low       Close   Adj Close  \\\n",
       "Date                                                                     \n",
       "2023-12-11  459.690002  473.730011  459.470001  469.329987  467.434814   \n",
       "2023-12-18  470.980011  475.899994  467.820007  473.649994  473.649994   \n",
       "2023-12-25  474.070007  477.549988  473.299988  475.309998  475.309998   \n",
       "2024-01-01  472.160004  473.670013  466.429993  467.920013  467.920013   \n",
       "2024-01-08  468.429993  474.929993  468.299988  473.880005  473.880005   \n",
       "\n",
       "               Volume  \n",
       "Date                   \n",
       "2023-12-11  486953100  \n",
       "2023-12-18  382852200  \n",
       "2023-12-25  322779500  \n",
       "2024-01-01  397502600  \n",
       "2024-01-08  140670043  "
      ]
     },
     "execution_count": 8,
     "metadata": {},
     "output_type": "execute_result"
    }
   ],
   "source": [
    "data.tail()"
   ]
  },
  {
   "cell_type": "markdown",
   "metadata": {},
   "source": [
    "## RSI"
   ]
  },
  {
   "cell_type": "code",
   "execution_count": 11,
   "metadata": {
    "scrolled": true
   },
   "outputs": [
    {
     "data": {
      "text/html": [
       "<div>\n",
       "<style scoped>\n",
       "    .dataframe tbody tr th:only-of-type {\n",
       "        vertical-align: middle;\n",
       "    }\n",
       "\n",
       "    .dataframe tbody tr th {\n",
       "        vertical-align: top;\n",
       "    }\n",
       "\n",
       "    .dataframe thead th {\n",
       "        text-align: right;\n",
       "    }\n",
       "</style>\n",
       "<table border=\"1\" class=\"dataframe\">\n",
       "  <thead>\n",
       "    <tr style=\"text-align: right;\">\n",
       "      <th></th>\n",
       "      <th>Open</th>\n",
       "      <th>High</th>\n",
       "      <th>Low</th>\n",
       "      <th>Close</th>\n",
       "      <th>Adj Close</th>\n",
       "      <th>Volume</th>\n",
       "      <th>Change</th>\n",
       "      <th>Gain</th>\n",
       "      <th>Loss</th>\n",
       "    </tr>\n",
       "    <tr>\n",
       "      <th>Date</th>\n",
       "      <th></th>\n",
       "      <th></th>\n",
       "      <th></th>\n",
       "      <th></th>\n",
       "      <th></th>\n",
       "      <th></th>\n",
       "      <th></th>\n",
       "      <th></th>\n",
       "      <th></th>\n",
       "    </tr>\n",
       "  </thead>\n",
       "  <tbody>\n",
       "    <tr>\n",
       "      <th>2023-12-11</th>\n",
       "      <td>459.690002</td>\n",
       "      <td>473.730011</td>\n",
       "      <td>459.470001</td>\n",
       "      <td>469.329987</td>\n",
       "      <td>467.434814</td>\n",
       "      <td>486953100</td>\n",
       "      <td>9.093109</td>\n",
       "      <td>9.093109</td>\n",
       "      <td>0.000000</td>\n",
       "    </tr>\n",
       "    <tr>\n",
       "      <th>2023-12-18</th>\n",
       "      <td>470.980011</td>\n",
       "      <td>475.899994</td>\n",
       "      <td>467.820007</td>\n",
       "      <td>473.649994</td>\n",
       "      <td>473.649994</td>\n",
       "      <td>382852200</td>\n",
       "      <td>6.215179</td>\n",
       "      <td>6.215179</td>\n",
       "      <td>0.000000</td>\n",
       "    </tr>\n",
       "    <tr>\n",
       "      <th>2023-12-25</th>\n",
       "      <td>474.070007</td>\n",
       "      <td>477.549988</td>\n",
       "      <td>473.299988</td>\n",
       "      <td>475.309998</td>\n",
       "      <td>475.309998</td>\n",
       "      <td>322779500</td>\n",
       "      <td>1.660004</td>\n",
       "      <td>1.660004</td>\n",
       "      <td>0.000000</td>\n",
       "    </tr>\n",
       "    <tr>\n",
       "      <th>2024-01-01</th>\n",
       "      <td>472.160004</td>\n",
       "      <td>473.670013</td>\n",
       "      <td>466.429993</td>\n",
       "      <td>467.920013</td>\n",
       "      <td>467.920013</td>\n",
       "      <td>397502600</td>\n",
       "      <td>-7.389984</td>\n",
       "      <td>0.000000</td>\n",
       "      <td>7.389984</td>\n",
       "    </tr>\n",
       "    <tr>\n",
       "      <th>2024-01-08</th>\n",
       "      <td>468.429993</td>\n",
       "      <td>474.929993</td>\n",
       "      <td>468.299988</td>\n",
       "      <td>473.880005</td>\n",
       "      <td>473.880005</td>\n",
       "      <td>140670043</td>\n",
       "      <td>5.959991</td>\n",
       "      <td>5.959991</td>\n",
       "      <td>0.000000</td>\n",
       "    </tr>\n",
       "  </tbody>\n",
       "</table>\n",
       "</div>"
      ],
      "text/plain": [
       "                  Open        High         Low       Close   Adj Close  \\\n",
       "Date                                                                     \n",
       "2023-12-11  459.690002  473.730011  459.470001  469.329987  467.434814   \n",
       "2023-12-18  470.980011  475.899994  467.820007  473.649994  473.649994   \n",
       "2023-12-25  474.070007  477.549988  473.299988  475.309998  475.309998   \n",
       "2024-01-01  472.160004  473.670013  466.429993  467.920013  467.920013   \n",
       "2024-01-08  468.429993  474.929993  468.299988  473.880005  473.880005   \n",
       "\n",
       "               Volume    Change      Gain      Loss  \n",
       "Date                                                 \n",
       "2023-12-11  486953100  9.093109  9.093109  0.000000  \n",
       "2023-12-18  382852200  6.215179  6.215179  0.000000  \n",
       "2023-12-25  322779500  1.660004  1.660004  0.000000  \n",
       "2024-01-01  397502600 -7.389984  0.000000  7.389984  \n",
       "2024-01-08  140670043  5.959991  5.959991  0.000000  "
      ]
     },
     "execution_count": 11,
     "metadata": {},
     "output_type": "execute_result"
    }
   ],
   "source": [
    "data['Change'] = data['Adj Close'].diff()\n",
    "data['Gain'] = data['Change'].mask(data['Change'] < 0, 0.0)\n",
    "data['Loss'] = -data['Change'].mask(data['Change'] > 0, -0.0)"
   ]
  },
  {
   "cell_type": "code",
   "execution_count": 12,
   "metadata": {},
   "outputs": [],
   "source": [
    "def rma(x, n):\n",
    "    \"\"\"Running moving average\"\"\"\n",
    "    a = np.full_like(x, np.nan)\n",
    "    a[n] = x[1:n+1].mean()\n",
    "    for i in range(n+1, len(x)):\n",
    "        a[i] = (a[i-1] * (n - 1) + x[i]) / n\n",
    "    return a"
   ]
  },
  {
   "cell_type": "code",
   "execution_count": 28,
   "metadata": {},
   "outputs": [],
   "source": [
    "data['Avg Gain'] = rma(data['Gain'].to_numpy(), rolling_period)\n",
    "data['Avg Loss'] = rma(data['Loss'].to_numpy(), rolling_period)"
   ]
  },
  {
   "cell_type": "code",
   "execution_count": 29,
   "metadata": {},
   "outputs": [],
   "source": [
    "data['RS'] = data['Avg Gain'] / data['Avg Loss']\n",
    "data['RSI'] = 1 - (1 / (1 + data['RS']))\n",
    "data.tail()"
   ]
  },
  {
   "cell_type": "code",
   "execution_count": 24,
   "metadata": {},
   "outputs": [
    {
     "name": "stderr",
     "output_type": "stream",
     "text": [
      "/home/andyw/.pyenv/versions/3.10.6/envs/rsi_mfi_notify/lib/python3.10/site-packages/mplfinance/_arg_validators.py:84: UserWarning: \n",
      "\n",
      " ================================================================= \n",
      "\n",
      "   WARNING: YOU ARE PLOTTING SO MUCH DATA THAT IT MAY NOT BE\n",
      "            POSSIBLE TO SEE DETAILS (Candles, Ohlc-Bars, Etc.)\n",
      "   For more information see:\n",
      "   - https://github.com/matplotlib/mplfinance/wiki/Plotting-Too-Much-Data\n",
      "   \n",
      "   TO SILENCE THIS WARNING, set `type='line'` in `mpf.plot()`\n",
      "   OR set kwarg `warn_too_much_data=N` where N is an integer \n",
      "   LARGER than the number of data points you want to plot.\n",
      "\n",
      " ================================================================ \n",
      "  warnings.warn('\\n\\n ================================================================= '+\n"
     ]
    },
    {
     "data": {
      "image/png": "[encoded data removed]",
      "text/plain": [
       "<Figure size 800x575 with 4 Axes>"
      ]
     },
     "metadata": {},
     "output_type": "display_data"
    }
   ],
   "source": [
    "mpf.plot(data, type='candle', style='yahoo', volume=True)"
   ]
  },
  {
   "cell_type": "code",
   "execution_count": 66,
   "metadata": {},
   "outputs": [
    {
     "data": {
      "text/plain": [
       "<Axes: xlabel='Date'>"
      ]
     },
     "execution_count": 66,
     "metadata": {},
     "output_type": "execute_result"
    },
    {
     "data": {
      "image/png": "[encoded data removed]",
      "text/plain": [
       "<Figure size 640x480 with 1 Axes>"
      ]
     },
     "metadata": {},
     "output_type": "display_data"
    }
   ],
   "source": [
    "data[['RSI']].iloc[-52:].plot()"
   ]
  },
  {
   "cell_type": "markdown",
   "metadata": {},
   "source": [
    "## MFI"
   ]
  },
  {
   "cell_type": "code",
   "execution_count": 26,
   "metadata": {},
   "outputs": [],
   "source": [
    "data['Typical Price'] = (data['Adj Close'] + data['High'] + data['Low']) / 3\n",
    "data['Money Flow'] = data['Typical Price'] * data['Volume']"
   ]
  },
  {
   "cell_type": "code",
   "execution_count": 35,
   "metadata": {},
   "outputs": [],
   "source": [
    "def mf_dir(typical_price,money_flow):\n",
    "\n",
    "    positive_flow = []\n",
    "    negative_flow = []\n",
    "    \n",
    "    for i in range(1, len(typical_price)):\n",
    "        if typical_price[i] > typical_price[i-1]:\n",
    "            positive_flow.append(money_flow[i-1])\n",
    "            negative_flow.append(0)\n",
    "            \n",
    "        elif typical_price[i] < typical_price[i-1]:\n",
    "            negative_flow.append(money_flow[i-1])\n",
    "            positive_flow.append(0)\n",
    "            \n",
    "        else:\n",
    "            positive_flow.append(0)\n",
    "            negative_flow.append(0)\n",
    "            \n",
    "    return positive_flow, negative_flow"
   ]
  },
  {
   "cell_type": "code",
   "execution_count": 46,
   "metadata": {},
   "outputs": [],
   "source": [
    "data['Positive Flow'], data['Negative Flow'] = np.nan, np.nan"
   ]
  },
  {
   "cell_type": "code",
   "execution_count": 51,
   "metadata": {},
   "outputs": [
    {
     "name": "stderr",
     "output_type": "stream",
     "text": [
      "/tmp/ipykernel_2083856/936769889.py:1: SettingWithCopyWarning: \n",
      "A value is trying to be set on a copy of a slice from a DataFrame\n",
      "\n",
      "See the caveats in the documentation: https://pandas.pydata.org/pandas-docs/stable/user_guide/indexing.html#returning-a-view-versus-a-copy\n",
      "  data['Positive Flow'].iloc[1:],data['Negative Flow'].iloc[1:] = mf_dir(data['Typical Price'].to_numpy(), data['Money Flow'].to_numpy())\n",
      "/tmp/ipykernel_2083856/936769889.py:1: SettingWithCopyWarning: \n",
      "A value is trying to be set on a copy of a slice from a DataFrame\n",
      "\n",
      "See the caveats in the documentation: https://pandas.pydata.org/pandas-docs/stable/user_guide/indexing.html#returning-a-view-versus-a-copy\n",
      "  data['Positive Flow'].iloc[1:],data['Negative Flow'].iloc[1:] = mf_dir(data['Typical Price'].to_numpy(), data['Money Flow'].to_numpy())\n"
     ]
    }
   ],
   "source": [
    "data['Positive Flow'].iloc[1:],data['Negative Flow'].iloc[1:] = mf_dir(data['Typical Price'].to_numpy(), data['Money Flow'].to_numpy())"
   ]
  },
  {
   "cell_type": "code",
   "execution_count": 57,
   "metadata": {
    "scrolled": true
   },
   "outputs": [],
   "source": [
    "data['Positive MF'] = data['Positive Flow'].rolling(rolling_period).sum()\n",
    "data['Negative MF'] = data['Negative Flow'].rolling(rolling_period).sum()"
   ]
  },
  {
   "cell_type": "code",
   "execution_count": 59,
   "metadata": {
    "scrolled": true
   },
   "outputs": [
    {
     "data": {
      "text/html": [
       "<div>\n",
       "<style scoped>\n",
       "    .dataframe tbody tr th:only-of-type {\n",
       "        vertical-align: middle;\n",
       "    }\n",
       "\n",
       "    .dataframe tbody tr th {\n",
       "        vertical-align: top;\n",
       "    }\n",
       "\n",
       "    .dataframe thead th {\n",
       "        text-align: right;\n",
       "    }\n",
       "</style>\n",
       "<table border=\"1\" class=\"dataframe\">\n",
       "  <thead>\n",
       "    <tr style=\"text-align: right;\">\n",
       "      <th></th>\n",
       "      <th>Open</th>\n",
       "      <th>High</th>\n",
       "      <th>Low</th>\n",
       "      <th>Close</th>\n",
       "      <th>Adj Close</th>\n",
       "      <th>Volume</th>\n",
       "      <th>Change</th>\n",
       "      <th>Gain</th>\n",
       "      <th>Loss</th>\n",
       "      <th>Avg Gain</th>\n",
       "      <th>Avg Loss</th>\n",
       "      <th>RS</th>\n",
       "      <th>RSI</th>\n",
       "      <th>Typical Price</th>\n",
       "      <th>Money Flow</th>\n",
       "      <th>Positive Flow</th>\n",
       "      <th>Negative Flow</th>\n",
       "      <th>Positive MF</th>\n",
       "      <th>Negative MF</th>\n",
       "      <th>MFI</th>\n",
       "    </tr>\n",
       "    <tr>\n",
       "      <th>Date</th>\n",
       "      <th></th>\n",
       "      <th></th>\n",
       "      <th></th>\n",
       "      <th></th>\n",
       "      <th></th>\n",
       "      <th></th>\n",
       "      <th></th>\n",
       "      <th></th>\n",
       "      <th></th>\n",
       "      <th></th>\n",
       "      <th></th>\n",
       "      <th></th>\n",
       "      <th></th>\n",
       "      <th></th>\n",
       "      <th></th>\n",
       "      <th></th>\n",
       "      <th></th>\n",
       "      <th></th>\n",
       "      <th></th>\n",
       "      <th></th>\n",
       "    </tr>\n",
       "  </thead>\n",
       "  <tbody>\n",
       "    <tr>\n",
       "      <th>2023-12-11</th>\n",
       "      <td>459.690002</td>\n",
       "      <td>473.730011</td>\n",
       "      <td>459.470001</td>\n",
       "      <td>469.329987</td>\n",
       "      <td>467.434814</td>\n",
       "      <td>486953100</td>\n",
       "      <td>9.093109</td>\n",
       "      <td>9.093109</td>\n",
       "      <td>0.000000</td>\n",
       "      <td>4.611791</td>\n",
       "      <td>2.246205</td>\n",
       "      <td>2.053148</td>\n",
       "      <td>0.672469</td>\n",
       "      <td>466.878276</td>\n",
       "      <td>2.273478e+11</td>\n",
       "      <td>1.654608e+11</td>\n",
       "      <td>0.000000e+00</td>\n",
       "      <td>1.339345e+12</td>\n",
       "      <td>1.047910e+12</td>\n",
       "      <td>0.561040</td>\n",
       "    </tr>\n",
       "    <tr>\n",
       "      <th>2023-12-18</th>\n",
       "      <td>470.980011</td>\n",
       "      <td>475.899994</td>\n",
       "      <td>467.820007</td>\n",
       "      <td>473.649994</td>\n",
       "      <td>473.649994</td>\n",
       "      <td>382852200</td>\n",
       "      <td>6.215179</td>\n",
       "      <td>6.215179</td>\n",
       "      <td>0.000000</td>\n",
       "      <td>4.726319</td>\n",
       "      <td>2.085761</td>\n",
       "      <td>2.265992</td>\n",
       "      <td>0.693814</td>\n",
       "      <td>472.456665</td>\n",
       "      <td>1.808811e+11</td>\n",
       "      <td>2.273478e+11</td>\n",
       "      <td>0.000000e+00</td>\n",
       "      <td>1.566693e+12</td>\n",
       "      <td>9.330433e+11</td>\n",
       "      <td>0.626743</td>\n",
       "    </tr>\n",
       "    <tr>\n",
       "      <th>2023-12-25</th>\n",
       "      <td>474.070007</td>\n",
       "      <td>477.549988</td>\n",
       "      <td>473.299988</td>\n",
       "      <td>475.309998</td>\n",
       "      <td>475.309998</td>\n",
       "      <td>322779500</td>\n",
       "      <td>1.660004</td>\n",
       "      <td>1.660004</td>\n",
       "      <td>0.000000</td>\n",
       "      <td>4.507296</td>\n",
       "      <td>1.936778</td>\n",
       "      <td>2.327213</td>\n",
       "      <td>0.699448</td>\n",
       "      <td>475.386658</td>\n",
       "      <td>1.534451e+11</td>\n",
       "      <td>1.808811e+11</td>\n",
       "      <td>0.000000e+00</td>\n",
       "      <td>1.747574e+12</td>\n",
       "      <td>7.626716e+11</td>\n",
       "      <td>0.696177</td>\n",
       "    </tr>\n",
       "    <tr>\n",
       "      <th>2024-01-01</th>\n",
       "      <td>472.160004</td>\n",
       "      <td>473.670013</td>\n",
       "      <td>466.429993</td>\n",
       "      <td>467.920013</td>\n",
       "      <td>467.920013</td>\n",
       "      <td>397502600</td>\n",
       "      <td>-7.389984</td>\n",
       "      <td>0.000000</td>\n",
       "      <td>7.389984</td>\n",
       "      <td>4.185346</td>\n",
       "      <td>2.326293</td>\n",
       "      <td>1.799148</td>\n",
       "      <td>0.642748</td>\n",
       "      <td>469.340007</td>\n",
       "      <td>1.865639e+11</td>\n",
       "      <td>0.000000e+00</td>\n",
       "      <td>1.534451e+11</td>\n",
       "      <td>1.747574e+12</td>\n",
       "      <td>7.381107e+11</td>\n",
       "      <td>0.703055</td>\n",
       "    </tr>\n",
       "    <tr>\n",
       "      <th>2024-01-08</th>\n",
       "      <td>468.429993</td>\n",
       "      <td>474.929993</td>\n",
       "      <td>468.299988</td>\n",
       "      <td>473.880005</td>\n",
       "      <td>473.880005</td>\n",
       "      <td>140670043</td>\n",
       "      <td>5.959991</td>\n",
       "      <td>5.959991</td>\n",
       "      <td>0.000000</td>\n",
       "      <td>4.312107</td>\n",
       "      <td>2.160129</td>\n",
       "      <td>1.996226</td>\n",
       "      <td>0.666247</td>\n",
       "      <td>472.369995</td>\n",
       "      <td>6.644831e+10</td>\n",
       "      <td>1.865639e+11</td>\n",
       "      <td>0.000000e+00</td>\n",
       "      <td>1.934138e+12</td>\n",
       "      <td>5.336508e+11</td>\n",
       "      <td>0.783753</td>\n",
       "    </tr>\n",
       "  </tbody>\n",
       "</table>\n",
       "</div>"
      ],
      "text/plain": [
       "                  Open        High         Low       Close   Adj Close  \\\n",
       "Date                                                                     \n",
       "2023-12-11  459.690002  473.730011  459.470001  469.329987  467.434814   \n",
       "2023-12-18  470.980011  475.899994  467.820007  473.649994  473.649994   \n",
       "2023-12-25  474.070007  477.549988  473.299988  475.309998  475.309998   \n",
       "2024-01-01  472.160004  473.670013  466.429993  467.920013  467.920013   \n",
       "2024-01-08  468.429993  474.929993  468.299988  473.880005  473.880005   \n",
       "\n",
       "               Volume    Change      Gain      Loss  Avg Gain  Avg Loss  \\\n",
       "Date                                                                      \n",
       "2023-12-11  486953100  9.093109  9.093109  0.000000  4.611791  2.246205   \n",
       "2023-12-18  382852200  6.215179  6.215179  0.000000  4.726319  2.085761   \n",
       "2023-12-25  322779500  1.660004  1.660004  0.000000  4.507296  1.936778   \n",
       "2024-01-01  397502600 -7.389984  0.000000  7.389984  4.185346  2.326293   \n",
       "2024-01-08  140670043  5.959991  5.959991  0.000000  4.312107  2.160129   \n",
       "\n",
       "                  RS       RSI  Typical Price    Money Flow  Positive Flow  \\\n",
       "Date                                                                         \n",
       "2023-12-11  2.053148  0.672469     466.878276  2.273478e+11   1.654608e+11   \n",
       "2023-12-18  2.265992  0.693814     472.456665  1.808811e+11   2.273478e+11   \n",
       "2023-12-25  2.327213  0.699448     475.386658  1.534451e+11   1.808811e+11   \n",
       "2024-01-01  1.799148  0.642748     469.340007  1.865639e+11   0.000000e+00   \n",
       "2024-01-08  1.996226  0.666247     472.369995  6.644831e+10   1.865639e+11   \n",
       "\n",
       "            Negative Flow   Positive MF   Negative MF       MFI  \n",
       "Date                                                             \n",
       "2023-12-11   0.000000e+00  1.339345e+12  1.047910e+12  0.561040  \n",
       "2023-12-18   0.000000e+00  1.566693e+12  9.330433e+11  0.626743  \n",
       "2023-12-25   0.000000e+00  1.747574e+12  7.626716e+11  0.696177  \n",
       "2024-01-01   1.534451e+11  1.747574e+12  7.381107e+11  0.703055  \n",
       "2024-01-08   0.000000e+00  1.934138e+12  5.336508e+11  0.783753  "
      ]
     },
     "execution_count": 59,
     "metadata": {},
     "output_type": "execute_result"
    }
   ],
   "source": [
    "data['MFI'] = data['Positive MF']/ (data['Positive MF'] + data['Negative MF'])\n",
    "data.tail()"
   ]
  },
  {
   "cell_type": "code",
   "execution_count": 65,
   "metadata": {},
   "outputs": [
    {
     "data": {
      "text/plain": [
       "<Axes: xlabel='Date'>"
      ]
     },
     "execution_count": 65,
     "metadata": {},
     "output_type": "execute_result"
    },
    {
     "data": {
      "image/png": "[encoded data removed]",
      "text/plain": [
       "<Figure size 640x480 with 1 Axes>"
      ]
     },
     "metadata": {},
     "output_type": "display_data"
    }
   ],
   "source": [
    "data[['MFI']].iloc[-52:].plot()"
   ]
  }
 ],
 "metadata": {
  "kernelspec": {
   "display_name": "Python 3 (ipykernel)",
   "language": "python",
   "name": "python3"
  },
  "language_info": {
   "codemirror_mode": {
    "name": "ipython",
    "version": 3
   },
   "file_extension": ".py",
   "mimetype": "text/x-python",
   "name": "python",
   "nbconvert_exporter": "python",
   "pygments_lexer": "ipython3",
   "version": "3.10.6"
  }
 },
 "nbformat": 4,
 "nbformat_minor": 4
}
