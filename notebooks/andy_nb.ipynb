{
 "cells": [
  {
   "cell_type": "markdown",
   "metadata": {},
   "source": [
    "# Using Yahoo Finance to calc RSI and MFI"
   ]
  },
  {
   "cell_type": "markdown",
   "metadata": {},
   "source": [
    "## Imports and Constants"
   ]
  },
  {
   "cell_type": "code",
   "execution_count": 1,
   "metadata": {},
   "outputs": [],
   "source": [
    "%load_ext autoreload\n",
    "%autoreload 2"
   ]
  },
  {
   "cell_type": "code",
   "execution_count": 2,
   "metadata": {},
   "outputs": [],
   "source": [
    "import pandas as pd\n",
    "import numpy as np\n",
    "import yfinance as yf\n",
    "import mplfinance as mpf"
   ]
  },
  {
   "cell_type": "code",
   "execution_count": 3,
   "metadata": {},
   "outputs": [],
   "source": [
    "candle_period = '1wk'\n",
    "rolling_period = 14"
   ]
  },
  {
   "cell_type": "markdown",
   "metadata": {},
   "source": [
    "## Get OHLCV"
   ]
  },
  {
   "cell_type": "code",
   "execution_count": 36,
   "metadata": {},
   "outputs": [
    {
     "name": "stderr",
     "output_type": "stream",
     "text": [
      "[*********************100%%**********************]  1 of 1 completed\n"
     ]
    }
   ],
   "source": [
    "data = yf.download(\"SPY\", interval = candle_period)"
   ]
  },
  {
   "cell_type": "code",
   "execution_count": 5,
   "metadata": {},
   "outputs": [
    {
     "data": {
      "text/plain": [
       "pandas.core.frame.DataFrame"
      ]
     },
     "execution_count": 5,
     "metadata": {},
     "output_type": "execute_result"
    }
   ],
   "source": [
    "type(data)"
   ]
  },
  {
   "cell_type": "code",
   "execution_count": 6,
   "metadata": {
    "scrolled": true
   },
   "outputs": [
    {
     "data": {
      "text/html": [
       "<div>\n",
       "<style scoped>\n",
       "    .dataframe tbody tr th:only-of-type {\n",
       "        vertical-align: middle;\n",
       "    }\n",
       "\n",
       "    .dataframe tbody tr th {\n",
       "        vertical-align: top;\n",
       "    }\n",
       "\n",
       "    .dataframe thead th {\n",
       "        text-align: right;\n",
       "    }\n",
       "</style>\n",
       "<table border=\"1\" class=\"dataframe\">\n",
       "  <thead>\n",
       "    <tr style=\"text-align: right;\">\n",
       "      <th></th>\n",
       "      <th>Open</th>\n",
       "      <th>High</th>\n",
       "      <th>Low</th>\n",
       "      <th>Close</th>\n",
       "      <th>Adj Close</th>\n",
       "      <th>Volume</th>\n",
       "    </tr>\n",
       "  </thead>\n",
       "  <tbody>\n",
       "    <tr>\n",
       "      <th>count</th>\n",
       "      <td>1616.000000</td>\n",
       "      <td>1616.000000</td>\n",
       "      <td>1616.000000</td>\n",
       "      <td>1616.000000</td>\n",
       "      <td>1616.000000</td>\n",
       "      <td>1.616000e+03</td>\n",
       "    </tr>\n",
       "    <tr>\n",
       "      <th>mean</th>\n",
       "      <td>170.661637</td>\n",
       "      <td>173.299145</td>\n",
       "      <td>167.923609</td>\n",
       "      <td>170.913444</td>\n",
       "      <td>142.533669</td>\n",
       "      <td>4.074347e+08</td>\n",
       "    </tr>\n",
       "    <tr>\n",
       "      <th>std</th>\n",
       "      <td>106.957537</td>\n",
       "      <td>108.552689</td>\n",
       "      <td>105.453779</td>\n",
       "      <td>107.238226</td>\n",
       "      <td>113.073808</td>\n",
       "      <td>4.315150e+08</td>\n",
       "    </tr>\n",
       "    <tr>\n",
       "      <th>min</th>\n",
       "      <td>43.343750</td>\n",
       "      <td>43.968750</td>\n",
       "      <td>42.812500</td>\n",
       "      <td>43.562500</td>\n",
       "      <td>24.628672</td>\n",
       "      <td>1.022000e+05</td>\n",
       "    </tr>\n",
       "    <tr>\n",
       "      <th>25%</th>\n",
       "      <td>105.296875</td>\n",
       "      <td>107.615002</td>\n",
       "      <td>103.154688</td>\n",
       "      <td>105.572500</td>\n",
       "      <td>70.726841</td>\n",
       "      <td>4.792588e+07</td>\n",
       "    </tr>\n",
       "    <tr>\n",
       "      <th>50%</th>\n",
       "      <td>132.000000</td>\n",
       "      <td>134.178749</td>\n",
       "      <td>129.635002</td>\n",
       "      <td>132.019997</td>\n",
       "      <td>93.450745</td>\n",
       "      <td>3.153046e+08</td>\n",
       "    </tr>\n",
       "    <tr>\n",
       "      <th>75%</th>\n",
       "      <td>210.430000</td>\n",
       "      <td>212.300003</td>\n",
       "      <td>207.884995</td>\n",
       "      <td>210.312500</td>\n",
       "      <td>180.937065</td>\n",
       "      <td>5.602494e+08</td>\n",
       "    </tr>\n",
       "    <tr>\n",
       "      <th>max</th>\n",
       "      <td>476.299988</td>\n",
       "      <td>479.980011</td>\n",
       "      <td>473.299988</td>\n",
       "      <td>476.559998</td>\n",
       "      <td>476.559998</td>\n",
       "      <td>3.281576e+09</td>\n",
       "    </tr>\n",
       "  </tbody>\n",
       "</table>\n",
       "</div>"
      ],
      "text/plain": [
       "              Open         High          Low        Close    Adj Close  \\\n",
       "count  1616.000000  1616.000000  1616.000000  1616.000000  1616.000000   \n",
       "mean    170.661637   173.299145   167.923609   170.913444   142.533669   \n",
       "std     106.957537   108.552689   105.453779   107.238226   113.073808   \n",
       "min      43.343750    43.968750    42.812500    43.562500    24.628672   \n",
       "25%     105.296875   107.615002   103.154688   105.572500    70.726841   \n",
       "50%     132.000000   134.178749   129.635002   132.019997    93.450745   \n",
       "75%     210.430000   212.300003   207.884995   210.312500   180.937065   \n",
       "max     476.299988   479.980011   473.299988   476.559998   476.559998   \n",
       "\n",
       "             Volume  \n",
       "count  1.616000e+03  \n",
       "mean   4.074347e+08  \n",
       "std    4.315150e+08  \n",
       "min    1.022000e+05  \n",
       "25%    4.792588e+07  \n",
       "50%    3.153046e+08  \n",
       "75%    5.602494e+08  \n",
       "max    3.281576e+09  "
      ]
     },
     "execution_count": 6,
     "metadata": {},
     "output_type": "execute_result"
    }
   ],
   "source": [
    "data.describe()"
   ]
  },
  {
   "cell_type": "code",
   "execution_count": 7,
   "metadata": {},
   "outputs": [
    {
     "data": {
      "text/html": [
       "<div>\n",
       "<style scoped>\n",
       "    .dataframe tbody tr th:only-of-type {\n",
       "        vertical-align: middle;\n",
       "    }\n",
       "\n",
       "    .dataframe tbody tr th {\n",
       "        vertical-align: top;\n",
       "    }\n",
       "\n",
       "    .dataframe thead th {\n",
       "        text-align: right;\n",
       "    }\n",
       "</style>\n",
       "<table border=\"1\" class=\"dataframe\">\n",
       "  <thead>\n",
       "    <tr style=\"text-align: right;\">\n",
       "      <th></th>\n",
       "      <th>Open</th>\n",
       "      <th>High</th>\n",
       "      <th>Low</th>\n",
       "      <th>Close</th>\n",
       "      <th>Adj Close</th>\n",
       "      <th>Volume</th>\n",
       "    </tr>\n",
       "    <tr>\n",
       "      <th>Date</th>\n",
       "      <th></th>\n",
       "      <th></th>\n",
       "      <th></th>\n",
       "      <th></th>\n",
       "      <th></th>\n",
       "      <th></th>\n",
       "    </tr>\n",
       "  </thead>\n",
       "  <tbody>\n",
       "    <tr>\n",
       "      <th>2023-12-11</th>\n",
       "      <td>459.690002</td>\n",
       "      <td>473.730011</td>\n",
       "      <td>459.470001</td>\n",
       "      <td>469.329987</td>\n",
       "      <td>467.434814</td>\n",
       "      <td>486953100</td>\n",
       "    </tr>\n",
       "    <tr>\n",
       "      <th>2023-12-18</th>\n",
       "      <td>470.980011</td>\n",
       "      <td>475.899994</td>\n",
       "      <td>467.820007</td>\n",
       "      <td>473.649994</td>\n",
       "      <td>473.649994</td>\n",
       "      <td>382852200</td>\n",
       "    </tr>\n",
       "    <tr>\n",
       "      <th>2023-12-25</th>\n",
       "      <td>474.070007</td>\n",
       "      <td>477.549988</td>\n",
       "      <td>473.299988</td>\n",
       "      <td>475.309998</td>\n",
       "      <td>475.309998</td>\n",
       "      <td>322779500</td>\n",
       "    </tr>\n",
       "    <tr>\n",
       "      <th>2024-01-01</th>\n",
       "      <td>472.160004</td>\n",
       "      <td>473.670013</td>\n",
       "      <td>466.429993</td>\n",
       "      <td>467.920013</td>\n",
       "      <td>467.920013</td>\n",
       "      <td>397502600</td>\n",
       "    </tr>\n",
       "    <tr>\n",
       "      <th>2024-01-08</th>\n",
       "      <td>468.429993</td>\n",
       "      <td>477.450012</td>\n",
       "      <td>468.299988</td>\n",
       "      <td>476.559998</td>\n",
       "      <td>476.559998</td>\n",
       "      <td>274418260</td>\n",
       "    </tr>\n",
       "  </tbody>\n",
       "</table>\n",
       "</div>"
      ],
      "text/plain": [
       "                  Open        High         Low       Close   Adj Close  \\\n",
       "Date                                                                     \n",
       "2023-12-11  459.690002  473.730011  459.470001  469.329987  467.434814   \n",
       "2023-12-18  470.980011  475.899994  467.820007  473.649994  473.649994   \n",
       "2023-12-25  474.070007  477.549988  473.299988  475.309998  475.309998   \n",
       "2024-01-01  472.160004  473.670013  466.429993  467.920013  467.920013   \n",
       "2024-01-08  468.429993  477.450012  468.299988  476.559998  476.559998   \n",
       "\n",
       "               Volume  \n",
       "Date                   \n",
       "2023-12-11  486953100  \n",
       "2023-12-18  382852200  \n",
       "2023-12-25  322779500  \n",
       "2024-01-01  397502600  \n",
       "2024-01-08  274418260  "
      ]
     },
     "execution_count": 7,
     "metadata": {},
     "output_type": "execute_result"
    }
   ],
   "source": [
    "data.tail()"
   ]
  },
  {
   "cell_type": "markdown",
   "metadata": {},
   "source": [
    "## RSI"
   ]
  },
  {
   "cell_type": "code",
   "execution_count": 37,
   "metadata": {
    "scrolled": true
   },
   "outputs": [],
   "source": [
    "data['Change'] = data['Adj Close'].diff()\n",
    "data['Gain'] = data['Change'].mask(data['Change'] < 0, 0.0)\n",
    "data['Loss'] = -data['Change'].mask(data['Change'] > 0, -0.0)"
   ]
  },
  {
   "cell_type": "code",
   "execution_count": 38,
   "metadata": {
    "scrolled": true
   },
   "outputs": [],
   "source": [
    "data['Avg Gain'] = data['Gain'].rolling(rolling_period).mean()\n",
    "data['Avg Loss'] = data['Loss'].rolling(rolling_period).mean()"
   ]
  },
  {
   "cell_type": "code",
   "execution_count": 54,
   "metadata": {},
   "outputs": [],
   "source": [
    "data['Avg Gain'] = data['Gain'].ewm(com=rolling_period, adjust=False).mean()\n",
    "data['Avg Loss'] = data['Loss'].ewm(com=rolling_period, adjust=False).mean()"
   ]
  },
  {
   "cell_type": "code",
   "execution_count": 55,
   "metadata": {},
   "outputs": [
    {
     "data": {
      "text/html": [
       "<div>\n",
       "<style scoped>\n",
       "    .dataframe tbody tr th:only-of-type {\n",
       "        vertical-align: middle;\n",
       "    }\n",
       "\n",
       "    .dataframe tbody tr th {\n",
       "        vertical-align: top;\n",
       "    }\n",
       "\n",
       "    .dataframe thead th {\n",
       "        text-align: right;\n",
       "    }\n",
       "</style>\n",
       "<table border=\"1\" class=\"dataframe\">\n",
       "  <thead>\n",
       "    <tr style=\"text-align: right;\">\n",
       "      <th></th>\n",
       "      <th>Open</th>\n",
       "      <th>High</th>\n",
       "      <th>Low</th>\n",
       "      <th>Close</th>\n",
       "      <th>Adj Close</th>\n",
       "      <th>Volume</th>\n",
       "      <th>Change</th>\n",
       "      <th>Gain</th>\n",
       "      <th>Loss</th>\n",
       "      <th>Avg Gain</th>\n",
       "      <th>Avg Loss</th>\n",
       "      <th>RS</th>\n",
       "      <th>RSI</th>\n",
       "    </tr>\n",
       "    <tr>\n",
       "      <th>Date</th>\n",
       "      <th></th>\n",
       "      <th></th>\n",
       "      <th></th>\n",
       "      <th></th>\n",
       "      <th></th>\n",
       "      <th></th>\n",
       "      <th></th>\n",
       "      <th></th>\n",
       "      <th></th>\n",
       "      <th></th>\n",
       "      <th></th>\n",
       "      <th></th>\n",
       "      <th></th>\n",
       "    </tr>\n",
       "  </thead>\n",
       "  <tbody>\n",
       "    <tr>\n",
       "      <th>1993-01-25</th>\n",
       "      <td>43.968750</td>\n",
       "      <td>43.968750</td>\n",
       "      <td>43.750000</td>\n",
       "      <td>43.937500</td>\n",
       "      <td>24.840681</td>\n",
       "      <td>1003200</td>\n",
       "      <td>NaN</td>\n",
       "      <td>NaN</td>\n",
       "      <td>NaN</td>\n",
       "      <td>NaN</td>\n",
       "      <td>NaN</td>\n",
       "      <td>NaN</td>\n",
       "      <td>NaN</td>\n",
       "    </tr>\n",
       "    <tr>\n",
       "      <th>1993-02-01</th>\n",
       "      <td>43.968750</td>\n",
       "      <td>45.093750</td>\n",
       "      <td>43.968750</td>\n",
       "      <td>44.968750</td>\n",
       "      <td>25.423714</td>\n",
       "      <td>2234800</td>\n",
       "      <td>0.583033</td>\n",
       "      <td>0.583033</td>\n",
       "      <td>0.000000</td>\n",
       "      <td>0.583033</td>\n",
       "      <td>0.000000</td>\n",
       "      <td>inf</td>\n",
       "      <td>100.000000</td>\n",
       "    </tr>\n",
       "    <tr>\n",
       "      <th>1993-02-08</th>\n",
       "      <td>44.968750</td>\n",
       "      <td>45.125000</td>\n",
       "      <td>44.531250</td>\n",
       "      <td>44.593750</td>\n",
       "      <td>25.211697</td>\n",
       "      <td>1159800</td>\n",
       "      <td>-0.212017</td>\n",
       "      <td>0.000000</td>\n",
       "      <td>0.212017</td>\n",
       "      <td>0.544164</td>\n",
       "      <td>0.014134</td>\n",
       "      <td>38.499055</td>\n",
       "      <td>97.468294</td>\n",
       "    </tr>\n",
       "    <tr>\n",
       "      <th>1993-02-15</th>\n",
       "      <td>44.468750</td>\n",
       "      <td>44.468750</td>\n",
       "      <td>42.812500</td>\n",
       "      <td>43.562500</td>\n",
       "      <td>24.628668</td>\n",
       "      <td>998700</td>\n",
       "      <td>-0.583029</td>\n",
       "      <td>0.000000</td>\n",
       "      <td>0.583029</td>\n",
       "      <td>0.507886</td>\n",
       "      <td>0.052061</td>\n",
       "      <td>9.755643</td>\n",
       "      <td>90.702555</td>\n",
       "    </tr>\n",
       "    <tr>\n",
       "      <th>1993-02-22</th>\n",
       "      <td>43.687500</td>\n",
       "      <td>44.437500</td>\n",
       "      <td>43.468750</td>\n",
       "      <td>44.406250</td>\n",
       "      <td>25.105692</td>\n",
       "      <td>1024300</td>\n",
       "      <td>0.477024</td>\n",
       "      <td>0.477024</td>\n",
       "      <td>0.000000</td>\n",
       "      <td>0.505829</td>\n",
       "      <td>0.048590</td>\n",
       "      <td>10.410131</td>\n",
       "      <td>91.235859</td>\n",
       "    </tr>\n",
       "    <tr>\n",
       "      <th>...</th>\n",
       "      <td>...</td>\n",
       "      <td>...</td>\n",
       "      <td>...</td>\n",
       "      <td>...</td>\n",
       "      <td>...</td>\n",
       "      <td>...</td>\n",
       "      <td>...</td>\n",
       "      <td>...</td>\n",
       "      <td>...</td>\n",
       "      <td>...</td>\n",
       "      <td>...</td>\n",
       "      <td>...</td>\n",
       "      <td>...</td>\n",
       "    </tr>\n",
       "    <tr>\n",
       "      <th>2023-12-11</th>\n",
       "      <td>459.690002</td>\n",
       "      <td>473.730011</td>\n",
       "      <td>459.470001</td>\n",
       "      <td>469.329987</td>\n",
       "      <td>467.434814</td>\n",
       "      <td>486953100</td>\n",
       "      <td>9.093109</td>\n",
       "      <td>9.093109</td>\n",
       "      <td>0.000000</td>\n",
       "      <td>4.563744</td>\n",
       "      <td>2.291208</td>\n",
       "      <td>1.991851</td>\n",
       "      <td>66.575873</td>\n",
       "    </tr>\n",
       "    <tr>\n",
       "      <th>2023-12-18</th>\n",
       "      <td>470.980011</td>\n",
       "      <td>475.899994</td>\n",
       "      <td>467.820007</td>\n",
       "      <td>473.649994</td>\n",
       "      <td>473.649994</td>\n",
       "      <td>382852200</td>\n",
       "      <td>6.215179</td>\n",
       "      <td>6.215179</td>\n",
       "      <td>0.000000</td>\n",
       "      <td>4.673840</td>\n",
       "      <td>2.138461</td>\n",
       "      <td>2.185609</td>\n",
       "      <td>68.608832</td>\n",
       "    </tr>\n",
       "    <tr>\n",
       "      <th>2023-12-25</th>\n",
       "      <td>474.070007</td>\n",
       "      <td>477.549988</td>\n",
       "      <td>473.299988</td>\n",
       "      <td>475.309998</td>\n",
       "      <td>475.309998</td>\n",
       "      <td>322779500</td>\n",
       "      <td>1.660004</td>\n",
       "      <td>1.660004</td>\n",
       "      <td>0.000000</td>\n",
       "      <td>4.472918</td>\n",
       "      <td>1.995897</td>\n",
       "      <td>2.241057</td>\n",
       "      <td>69.145865</td>\n",
       "    </tr>\n",
       "    <tr>\n",
       "      <th>2024-01-01</th>\n",
       "      <td>472.160004</td>\n",
       "      <td>473.670013</td>\n",
       "      <td>466.429993</td>\n",
       "      <td>467.920013</td>\n",
       "      <td>467.920013</td>\n",
       "      <td>397502600</td>\n",
       "      <td>-7.389984</td>\n",
       "      <td>0.000000</td>\n",
       "      <td>7.389984</td>\n",
       "      <td>4.174723</td>\n",
       "      <td>2.355503</td>\n",
       "      <td>1.772328</td>\n",
       "      <td>63.929232</td>\n",
       "    </tr>\n",
       "    <tr>\n",
       "      <th>2024-01-08</th>\n",
       "      <td>468.429993</td>\n",
       "      <td>477.450012</td>\n",
       "      <td>468.299988</td>\n",
       "      <td>476.559998</td>\n",
       "      <td>476.559998</td>\n",
       "      <td>274418260</td>\n",
       "      <td>8.639984</td>\n",
       "      <td>8.639984</td>\n",
       "      <td>0.000000</td>\n",
       "      <td>4.472407</td>\n",
       "      <td>2.198469</td>\n",
       "      <td>2.034328</td>\n",
       "      <td>67.043774</td>\n",
       "    </tr>\n",
       "  </tbody>\n",
       "</table>\n",
       "<p>1616 rows × 13 columns</p>\n",
       "</div>"
      ],
      "text/plain": [
       "                  Open        High         Low       Close   Adj Close  \\\n",
       "Date                                                                     \n",
       "1993-01-25   43.968750   43.968750   43.750000   43.937500   24.840681   \n",
       "1993-02-01   43.968750   45.093750   43.968750   44.968750   25.423714   \n",
       "1993-02-08   44.968750   45.125000   44.531250   44.593750   25.211697   \n",
       "1993-02-15   44.468750   44.468750   42.812500   43.562500   24.628668   \n",
       "1993-02-22   43.687500   44.437500   43.468750   44.406250   25.105692   \n",
       "...                ...         ...         ...         ...         ...   \n",
       "2023-12-11  459.690002  473.730011  459.470001  469.329987  467.434814   \n",
       "2023-12-18  470.980011  475.899994  467.820007  473.649994  473.649994   \n",
       "2023-12-25  474.070007  477.549988  473.299988  475.309998  475.309998   \n",
       "2024-01-01  472.160004  473.670013  466.429993  467.920013  467.920013   \n",
       "2024-01-08  468.429993  477.450012  468.299988  476.559998  476.559998   \n",
       "\n",
       "               Volume    Change      Gain      Loss  Avg Gain  Avg Loss  \\\n",
       "Date                                                                      \n",
       "1993-01-25    1003200       NaN       NaN       NaN       NaN       NaN   \n",
       "1993-02-01    2234800  0.583033  0.583033  0.000000  0.583033  0.000000   \n",
       "1993-02-08    1159800 -0.212017  0.000000  0.212017  0.544164  0.014134   \n",
       "1993-02-15     998700 -0.583029  0.000000  0.583029  0.507886  0.052061   \n",
       "1993-02-22    1024300  0.477024  0.477024  0.000000  0.505829  0.048590   \n",
       "...               ...       ...       ...       ...       ...       ...   \n",
       "2023-12-11  486953100  9.093109  9.093109  0.000000  4.563744  2.291208   \n",
       "2023-12-18  382852200  6.215179  6.215179  0.000000  4.673840  2.138461   \n",
       "2023-12-25  322779500  1.660004  1.660004  0.000000  4.472918  1.995897   \n",
       "2024-01-01  397502600 -7.389984  0.000000  7.389984  4.174723  2.355503   \n",
       "2024-01-08  274418260  8.639984  8.639984  0.000000  4.472407  2.198469   \n",
       "\n",
       "                   RS         RSI  \n",
       "Date                               \n",
       "1993-01-25        NaN         NaN  \n",
       "1993-02-01        inf  100.000000  \n",
       "1993-02-08  38.499055   97.468294  \n",
       "1993-02-15   9.755643   90.702555  \n",
       "1993-02-22  10.410131   91.235859  \n",
       "...               ...         ...  \n",
       "2023-12-11   1.991851   66.575873  \n",
       "2023-12-18   2.185609   68.608832  \n",
       "2023-12-25   2.241057   69.145865  \n",
       "2024-01-01   1.772328   63.929232  \n",
       "2024-01-08   2.034328   67.043774  \n",
       "\n",
       "[1616 rows x 13 columns]"
      ]
     },
     "execution_count": 55,
     "metadata": {},
     "output_type": "execute_result"
    }
   ],
   "source": [
    "data['RS'] = data['Avg Gain'] / data['Avg Loss']\n",
    "data['RSI'] = 100 - (100 / (1 + data['RS']))\n",
    "data"
   ]
  },
  {
   "cell_type": "code",
   "execution_count": null,
   "metadata": {},
   "outputs": [],
   "source": [
    "mpf.plot(data, type='candle', style='yahoo', volume=True)"
   ]
  },
  {
   "cell_type": "code",
   "execution_count": null,
   "metadata": {},
   "outputs": [],
   "source": [
    "data[['RSI']].iloc[-52:].plot()"
   ]
  },
  {
   "cell_type": "markdown",
   "metadata": {},
   "source": [
    "## MFI"
   ]
  },
  {
   "cell_type": "code",
   "execution_count": null,
   "metadata": {},
   "outputs": [],
   "source": [
    "data['Typical Price'] = (data['Adj Close'] + data['High'] + data['Low']) / 3\n",
    "data['Money Flow'] = data['Typical Price'] * data['Volume']"
   ]
  },
  {
   "cell_type": "code",
   "execution_count": null,
   "metadata": {},
   "outputs": [],
   "source": [
    "def mf_dir(typical_price,money_flow):\n",
    "\n",
    "    positive_flow = []\n",
    "    negative_flow = []\n",
    "    \n",
    "    for i in range(1, len(typical_price)):\n",
    "        if typical_price[i] > typical_price[i-1]:\n",
    "            positive_flow.append(money_flow[i-1])\n",
    "            negative_flow.append(0)\n",
    "            \n",
    "        elif typical_price[i] < typical_price[i-1]:\n",
    "            negative_flow.append(money_flow[i-1])\n",
    "            positive_flow.append(0)\n",
    "            \n",
    "        else:\n",
    "            positive_flow.append(0)\n",
    "            negative_flow.append(0)\n",
    "            \n",
    "    return positive_flow, negative_flow"
   ]
  },
  {
   "cell_type": "code",
   "execution_count": null,
   "metadata": {},
   "outputs": [],
   "source": [
    "data['Positive Flow'], data['Negative Flow'] = np.nan, np.nan"
   ]
  },
  {
   "cell_type": "code",
   "execution_count": null,
   "metadata": {},
   "outputs": [],
   "source": [
    "data['Positive Flow'].iloc[1:],data['Negative Flow'].iloc[1:] = mf_dir(data['Typical Price'].to_numpy(), data['Money Flow'].to_numpy())"
   ]
  },
  {
   "cell_type": "code",
   "execution_count": null,
   "metadata": {
    "scrolled": true
   },
   "outputs": [],
   "source": [
    "data['Positive MF'] = data['Positive Flow'].rolling(rolling_period).sum()\n",
    "data['Negative MF'] = data['Negative Flow'].rolling(rolling_period).sum()"
   ]
  },
  {
   "cell_type": "code",
   "execution_count": null,
   "metadata": {
    "scrolled": true
   },
   "outputs": [],
   "source": [
    "data['MFI'] = data['Positive MF']/ (data['Positive MF'] + data['Negative MF'])\n",
    "data.tail()"
   ]
  },
  {
   "cell_type": "code",
   "execution_count": null,
   "metadata": {},
   "outputs": [],
   "source": [
    "data[['MFI']].iloc[-52:].plot()"
   ]
  }
 ],
 "metadata": {
  "kernelspec": {
   "display_name": "Python 3 (ipykernel)",
   "language": "python",
   "name": "python3"
  },
  "language_info": {
   "codemirror_mode": {
    "name": "ipython",
    "version": 3
   },
   "file_extension": ".py",
   "mimetype": "text/x-python",
   "name": "python",
   "nbconvert_exporter": "python",
   "pygments_lexer": "ipython3",
   "version": "3.10.6"
  }
 },
 "nbformat": 4,
 "nbformat_minor": 4
}
